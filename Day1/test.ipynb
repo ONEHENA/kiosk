{
 "cells": [
  {
   "cell_type": "code",
   "execution_count": 1,
   "metadata": {},
   "outputs": [],
   "source": [
    "import numpy as np"
   ]
  },
  {
   "cell_type": "code",
   "execution_count": null,
   "metadata": {},
   "outputs": [],
   "source": [
    "# 모듈 설치\n",
    "!pip install numpy"
   ]
  },
  {
   "cell_type": "code",
   "execution_count": 5,
   "metadata": {},
   "outputs": [
    {
     "name": "stdout",
     "output_type": "stream",
     "text": [
      "*\n",
      "**\n",
      "***\n",
      "****\n"
     ]
    }
   ],
   "source": [
    "# 별찍기 문제\n",
    "\n",
    "print('*')\n",
    "print('**')\n",
    "print('***')\n",
    "print('****')"
   ]
  },
  {
   "cell_type": "code",
   "execution_count": 19,
   "metadata": {},
   "outputs": [
    {
     "name": "stdout",
     "output_type": "stream",
     "text": [
      "****\n",
      "***\n",
      "**\n",
      "*\n"
     ]
    }
   ],
   "source": [
    "for i in range(4): # 0 ~ 3\n",
    "    print('*' * (4 - i))"
   ]
  },
  {
   "cell_type": "code",
   "execution_count": 8,
   "metadata": {},
   "outputs": [
    {
     "data": {
      "text/plain": [
       "'****'"
      ]
     },
     "execution_count": 8,
     "metadata": {},
     "output_type": "execute_result"
    }
   ],
   "source": [
    "'*' * 4"
   ]
  },
  {
   "cell_type": "code",
   "execution_count": 18,
   "metadata": {},
   "outputs": [],
   "source": [
    "for i in range(): \n",
    "    print(i)"
   ]
  },
  {
   "cell_type": "code",
   "execution_count": 20,
   "metadata": {},
   "outputs": [
    {
     "name": "stdout",
     "output_type": "stream",
     "text": [
      "   *\n",
      "  **\n",
      " ***\n",
      "****\n"
     ]
    }
   ],
   "source": [
    "# 별찍기 문제\n",
    "\n",
    "print('   *')\n",
    "print('  **')\n",
    "print(' ***')\n",
    "print('****')"
   ]
  },
  {
   "cell_type": "code",
   "execution_count": 21,
   "metadata": {},
   "outputs": [
    {
     "name": "stdout",
     "output_type": "stream",
     "text": [
      "   *\n",
      "  **\n",
      " ***\n",
      "****\n"
     ]
    }
   ],
   "source": [
    "for i in range(4): # 0 ~ 3\n",
    "    print(' '*(3 - i) + '*' * (i + 1))"
   ]
  },
  {
   "cell_type": "code",
   "execution_count": 22,
   "metadata": {},
   "outputs": [
    {
     "name": "stdout",
     "output_type": "stream",
     "text": [
      "8\n"
     ]
    }
   ],
   "source": [
    "# 함수 만들기\n",
    "\n",
    "def add(a, b):\n",
    "    return a + b\n",
    "\n",
    "result = add(3, 5)\n",
    "print(result)"
   ]
  },
  {
   "cell_type": "code",
   "execution_count": 29,
   "metadata": {},
   "outputs": [
    {
     "name": "stdout",
     "output_type": "stream",
     "text": [
      "다시 입력하세요.\n"
     ]
    }
   ],
   "source": [
    "# 9*9단 출력 함수\n",
    "# 몇 단을 출력할지 매개변수로 입력\n",
    "\n",
    "def gugu(number):\n",
    "    if number >= 2 and number <= 9:\n",
    "        for i in range(9): # 0 ~ 8\n",
    "            print(f'{number} x {i+1} = {number * (i+1)}')\n",
    "    else:\n",
    "        print('다시 입력하세요.')\n",
    "\n"
   ]
  },
  {
   "cell_type": "code",
   "execution_count": 1,
   "metadata": {},
   "outputs": [
    {
     "name": "stdout",
     "output_type": "stream",
     "text": [
      "cola 2000\n",
      "saida 1500\n",
      "hwanta 3000\n",
      "돈을 입력해 주세요.\n"
     ]
    },
    {
     "ename": "KeyError",
     "evalue": "''",
     "output_type": "error",
     "traceback": [
      "\u001b[1;31m---------------------------------------------------------------------------\u001b[0m",
      "\u001b[1;31mKeyError\u001b[0m                                  Traceback (most recent call last)",
      "Cell \u001b[1;32mIn[1], line 45\u001b[0m\n\u001b[0;32m     41\u001b[0m     \u001b[39m# 물건을 구매하는 함수 호출\u001b[39;00m\n\u001b[0;32m     42\u001b[0m     purchase(balance)\n\u001b[1;32m---> 45\u001b[0m main()\n",
      "Cell \u001b[1;32mIn[1], line 42\u001b[0m, in \u001b[0;36mmain\u001b[1;34m()\u001b[0m\n\u001b[0;32m     39\u001b[0m balance \u001b[39m=\u001b[39m \u001b[39mint\u001b[39m(\u001b[39minput\u001b[39m())\n\u001b[0;32m     41\u001b[0m \u001b[39m# 물건을 구매하는 함수 호출\u001b[39;00m\n\u001b[1;32m---> 42\u001b[0m purchase(balance)\n",
      "Cell \u001b[1;32mIn[1], line 25\u001b[0m, in \u001b[0;36mpurchase\u001b[1;34m(balance)\u001b[0m\n\u001b[0;32m     22\u001b[0m user_input \u001b[39m=\u001b[39m \u001b[39minput\u001b[39m()\n\u001b[0;32m     24\u001b[0m \u001b[39m# 사용자가 입력한 메뉴를 잔액으로 구매할 수 있는지 없는지\u001b[39;00m\n\u001b[1;32m---> 25\u001b[0m \u001b[39mif\u001b[39;00m balance \u001b[39m>\u001b[39m\u001b[39m=\u001b[39m menus[user_input]:\n\u001b[0;32m     26\u001b[0m     \u001b[39m# 구매하는 코드 입력\u001b[39;00m\n\u001b[0;32m     27\u001b[0m     \u001b[39mprint\u001b[39m(\u001b[39mf\u001b[39m\u001b[39m'\u001b[39m\u001b[39m{\u001b[39;00muser_input\u001b[39m}\u001b[39;00m\u001b[39m를 구매했습니다. \u001b[39m\u001b[39m'\u001b[39m)\n\u001b[0;32m     28\u001b[0m     \u001b[39m# 구매 가능하다면 잔액에서 물품 가격 빼고 구매완료 출력\u001b[39;00m\n",
      "\u001b[1;31mKeyError\u001b[0m: ''"
     ]
    }
   ],
   "source": [
    "# 자판기 만들기\n",
    "\n",
    "## 메뉴 함수\n",
    "## 사용자에게 메뉴를 보여주기\n",
    "## 콜라, 사이다, 환타 각각의 가격\n",
    "menus = {\n",
    "    'cola' : 2000,\n",
    "    'saida' : 1500, \n",
    "    'hwanta' : 3000 \n",
    "}\n",
    "\n",
    "def print_menu():\n",
    "    for key, value in menus.items():\n",
    "        print(key, value)\n",
    "\n",
    "# 사용자에게 돈을 입력받고 입력받은 돈에서 구매하는 함수 만들기\n",
    "## 사용자가 얼마만큼의 돈을 입력하는지 저장할 변수\n",
    "## 구매를 한다면 잔액 - 물건 가격을 빼주는 함수\n",
    "\n",
    "def purchase(balance):\n",
    "    while True:\n",
    "        user_input = input()\n",
    "\n",
    "        # 사용자가 입력한 메뉴를 잔액으로 구매할 수 있는지 없는지\n",
    "        if balance >= menus[user_input]:\n",
    "            # 구매하는 코드 입력\n",
    "            print(f'{user_input}를 구매했습니다. ')\n",
    "            # 구매 가능하다면 잔액에서 물품 가격 빼고 구매완료 출력\n",
    "            balance = balance - menus[user_input]        \n",
    "        else:\n",
    "            print('잔액이 부족합니다. ')\n",
    "            break\n",
    "\n",
    "def main():\n",
    "    print_menu()\n",
    "\n",
    "    # 사용자에게 돈을 입력 받기\n",
    "    print(\"돈을 입력해 주세요.\")\n",
    "    balance = int(input())\n",
    "\n",
    "    # 물건을 구매하는 함수 호출\n",
    "    purchase(balance)\n",
    "\n",
    "\n",
    "main()\n"
   ]
  },
  {
   "cell_type": "code",
   "execution_count": 35,
   "metadata": {},
   "outputs": [
    {
     "name": "stdout",
     "output_type": "stream",
     "text": [
      "cola를 구매했습니다. \n",
      "cola를 구매했습니다. \n",
      "잔액이 부족합니다. \n"
     ]
    }
   ],
   "source": [
    "balance = 6000\n",
    "\n",
    "while True:\n",
    "    user_input = input()\n",
    "\n",
    "    # 사용자가 입력한 메뉴를 잔액으로 구매할 수 있는지 없는지\n",
    "    if balance >= menus[user_input]:\n",
    "        # 구매하는 코드 입력\n",
    "        print(f'{user_input}를 구매했습니다. ')\n",
    "        # 구매 가능하다면 잔액에서 물품 가격 빼고 구매완료 출력\n",
    "        balance = balance - menus[user_input]        \n",
    "    else:\n",
    "        print('잔액이 부족합니다. ')\n",
    "        break"
   ]
  },
  {
   "cell_type": "code",
   "execution_count": 34,
   "metadata": {},
   "outputs": [
    {
     "data": {
      "text/plain": [
       "2000"
      ]
     },
     "execution_count": 34,
     "metadata": {},
     "output_type": "execute_result"
    }
   ],
   "source": [
    "menus['cola']"
   ]
  },
  {
   "cell_type": "code",
   "execution_count": 2,
   "metadata": {},
   "outputs": [],
   "source": [
    "# class 만들기\n",
    "\n",
    "class Car:\n",
    "    name = ''\n",
    "    num_of_door = 4"
   ]
  },
  {
   "cell_type": "code",
   "execution_count": 3,
   "metadata": {},
   "outputs": [],
   "source": [
    "car1 = Car()\n",
    "car2 = Car()\n",
    "car3 = Car()"
   ]
  },
  {
   "cell_type": "code",
   "execution_count": 5,
   "metadata": {},
   "outputs": [
    {
     "data": {
      "text/plain": [
       "4"
      ]
     },
     "execution_count": 5,
     "metadata": {},
     "output_type": "execute_result"
    }
   ],
   "source": [
    "car1.num_of_door"
   ]
  },
  {
   "cell_type": "code",
   "execution_count": 10,
   "metadata": {},
   "outputs": [
    {
     "name": "stdout",
     "output_type": "stream",
     "text": [
      "안녕하세요, 제 이름은 김대겸입니다.\n",
      "제 나이는 14살 입니다.\n",
      "제가 사는 곳은 노원구입니다.\n"
     ]
    }
   ],
   "source": [
    "# class 예제 1\n",
    "\n",
    "class Hello():\n",
    "    def __init__(self, name, age, address):\n",
    "        self.name = name\n",
    "        self.age = age\n",
    "        self.address = address\n",
    "\n",
    "    def print_hello(self):\n",
    "        print('hi')\n",
    "\n",
    "    def introduce_myself(self):\n",
    "        print(f'안녕하세요, 제 이름은 {self.name}입니다.')\n",
    "        print(f'제 나이는 {self.age}살 입니다.')\n",
    "        print(f'제가 사는 곳은 {self.address}입니다.')\n",
    "\n",
    "# h1 = Hello()\n",
    "# h1.print_hello()\n",
    "# h1.introduce_myself('김대겸')\n",
    "\n",
    "h2 = Hello('김대겸', 14, '노원구')\n",
    "h2.introduce_myself()"
   ]
  },
  {
   "cell_type": "code",
   "execution_count": 11,
   "metadata": {},
   "outputs": [
    {
     "name": "stdout",
     "output_type": "stream",
     "text": [
      "안녕하세요, 제 이름은 홍길동입니다.\n",
      "제 나이는 34살 입니다.\n",
      "제가 사는 곳은 중랑구입니다.\n"
     ]
    }
   ],
   "source": [
    "h3 = Hello('홍길동', 34, '중랑구')\n",
    "h3.introduce_myself()"
   ]
  },
  {
   "cell_type": "code",
   "execution_count": null,
   "metadata": {},
   "outputs": [],
   "source": [
    "# 동물 클래스 만들기\n",
    "class Animal:\n",
    "    def __init__(self, name, num_of_foots):\n",
    "        # 클래스 객체의 고유 값을 초기화\n",
    "        self.name = name\n",
    "        self.num_of_foots = num_of_foots\n",
    "\n",
    "    # 함수 만들기\n",
    "    ## 동물의 이름을 소개하는 함수\n",
    "    def introduce_name(self):\n",
    "        print(f'나는 {self.name}라는 동물이다.')\n",
    "\n",
    "    ## 내 다리는 몇개다\n",
    "    def introduce_leg(self):\n",
    "        print(f'내 다리는 {self.num_of_foots}개다.')"
   ]
  },
  {
   "cell_type": "code",
   "execution_count": 14,
   "metadata": {},
   "outputs": [],
   "source": [
    "# bank 클래스 만들기\n",
    "class Bank:\n",
    "    def __init__(self, money):\n",
    "        self.money = money\n",
    "    \n",
    "    def deposit(self, plus):\n",
    "        # 객체에 돈을 얼마나 넣을 것인지\n",
    "        self.money += plus\n",
    "\n",
    "    def withdrawal(self, minus):\n",
    "        # 돈을 얼마나 뺄 것인지\n",
    "        self.money -= minus\n",
    "\n",
    "    # 다른 객체에 돈을 송금하는 함수\n",
    "    def trans(self, other_obj, t_money):# 클래스 객체, 송금할 돈 액수\n",
    "        other_obj.money += t_money\n",
    "        self.money -= t_money"
   ]
  },
  {
   "cell_type": "code",
   "execution_count": 13,
   "metadata": {},
   "outputs": [
    {
     "name": "stdout",
     "output_type": "stream",
     "text": [
      "10000\n",
      "12000\n",
      "9000\n"
     ]
    }
   ],
   "source": [
    "b1 = Bank(10000)\n",
    "print(b1.money)\n",
    "b1.deposit(2000)\n",
    "print(b1.money)\n",
    "b1.withdrawal(3000)\n",
    "print(b1.money)"
   ]
  },
  {
   "cell_type": "code",
   "execution_count": 15,
   "metadata": {},
   "outputs": [
    {
     "name": "stdout",
     "output_type": "stream",
     "text": [
      "10000 20000\n",
      "15000 15000\n"
     ]
    }
   ],
   "source": [
    "b2 = Bank(10000)\n",
    "b3 = Bank(20000)\n",
    "print(b2.money, b3.money)\n",
    "\n",
    "b3.trans(b2, 5000)\n",
    "print(b2.money, b3.money)"
   ]
  },
  {
   "cell_type": "code",
   "execution_count": 52,
   "metadata": {},
   "outputs": [],
   "source": [
    "# 전화번호부 관리 프로그램\n",
    "# Person 클래스 만들기\n",
    "class Person:\n",
    "    def __init__(self, name, phone_number, address):\n",
    "        # 초기화\n",
    "        self.name = name\n",
    "        self.phone_number = phone_number\n",
    "        self.address = address\n",
    "\n",
    "    def introduce_myself(self):\n",
    "        # 자기소개\n",
    "        ## 이름, 전화번호, 주소\n",
    "        print(f'안녕하세요, 제 이름은 {self.name}입니다.')\n",
    "        print(f'제 전화번호는 {self.phone_number} 입니다.')\n",
    "        print(f'제가 사는 곳은 {self.address}입니다.')\n",
    "\n",
    "class Phone_book_manager:\n",
    "    def __init__(self, person_list):\n",
    "        # 초기화\n",
    "        self.person_list = person_list\n",
    "\n",
    "    # 현재 전화번호부에 있는 모든 사람의 정보를 출력\n",
    "    def print_all_person(self):\n",
    "        for p in self.person_list:\n",
    "            p.introduce_myself()\n",
    "            print()\n",
    "\n",
    "    ## 사람을 추가하는 함수\n",
    "    def add_person(self):\n",
    "        ### person 객체를 생성\n",
    "        ### 이름, 전화번호, 주소\n",
    "        name = input('이름을 입력해 주세요:')\n",
    "        pn = input('전화번호을 입력해 주세요:')\n",
    "        addr = input('주소를 입력해 주세요:')\n",
    "        \n",
    "        person_obj = Person(name, pn, addr)\n",
    "        self.person_list.append(person_obj)\n",
    "        print(f'{person_obj.name}이 성공적으로 추가 되었습니다.')\n",
    "        \n",
    "    ## 특정 사람에 대한 정보를 수정\n",
    "    def update_person(self):\n",
    "        name = input('이름을 입력해 주세요:')\n",
    "\n",
    "        for p in self.person_list:\n",
    "            if name == p.name:\n",
    "                # 원하는 정보를 수정하는 코드\n",
    "                while True:\n",
    "                    select_num = int(input(\"1. 이름, 2. 전화번호, 3. 주소, 4. 나가기\"))\n",
    "                    if select_num == 1:\n",
    "                        p.name = input(\"이름을 입력해 주세요\")\n",
    "                    elif select_num == 2:\n",
    "                        p.phone_number = input(\"전화번호를 입력해 주세요\")\n",
    "                    elif select_num == 3:\n",
    "                        p.address = input(\"주소를 입력해 주세요\")\n",
    "                    else:\n",
    "                        return    \n",
    "        # 찾는 이름이 없다는 출력문\n",
    "        print('찾는 이름이 전화번호부에 없습니다. ')\n",
    "\n",
    "    ## 특정 사람에 대한 정보를 삭제\n",
    "    def delete_person(self):\n",
    "        name = input('이름을 입력해 주세요:')\n",
    "\n",
    "        for p in self.person_list:\n",
    "            if name == p.name:\n",
    "                # del p\n",
    "                self.person_list.remove(p)\n",
    "                return\n",
    "        # 찾는 이름이 없다는 출력문\n",
    "        print('찾는 이름이 전화번호부에 없습니다. ')\n",
    "\n",
    "    ## 특정 사람에 대한 정보를 조회\n",
    "    def select_person(self, name):\n",
    "        name = input('이름을 입력해 주세요:')\n",
    "        for p in self.person_list:\n",
    "            if name == p.name:\n",
    "                p.introduce_myself()\n",
    "                return\n",
    "        # 찾는 이름이 없다는 출력문\n",
    "        print('찾는 이름이 전화번호부에 없습니다. ')"
   ]
  },
  {
   "cell_type": "code",
   "execution_count": 56,
   "metadata": {},
   "outputs": [
    {
     "name": "stdout",
     "output_type": "stream",
     "text": [
      "안녕하세요, 제 이름은 홍길동입니다.\n",
      "제 전화번호는 01011112222 입니다.\n",
      "제가 사는 곳은 노원구입니다.\n",
      "\n",
      "안녕하세요, 제 이름은 김철수입니다.\n",
      "제 전화번호는 01044445555 입니다.\n",
      "제가 사는 곳은 중랑구입니다.\n",
      "\n"
     ]
    }
   ],
   "source": [
    "p1 = Person('홍길동', '01011112222', '노원구')\n",
    "p2 = Person('김철수', '01044445555', '중랑구')\n",
    "\n",
    "pm1 = Phone_book_manager([p1,p2])\n",
    "pm1.print_all_person()"
   ]
  },
  {
   "cell_type": "code",
   "execution_count": 57,
   "metadata": {},
   "outputs": [
    {
     "name": "stdout",
     "output_type": "stream",
     "text": [
      "김대겸이 성공적으로 추가 되었습니다.\n"
     ]
    }
   ],
   "source": [
    "pm1.add_person()"
   ]
  },
  {
   "cell_type": "code",
   "execution_count": 34,
   "metadata": {},
   "outputs": [],
   "source": [
    "pm1.update_person()"
   ]
  },
  {
   "cell_type": "code",
   "execution_count": 59,
   "metadata": {},
   "outputs": [],
   "source": [
    "pm1.delete_person()"
   ]
  },
  {
   "cell_type": "code",
   "execution_count": 58,
   "metadata": {},
   "outputs": [
    {
     "name": "stdout",
     "output_type": "stream",
     "text": [
      "안녕하세요, 제 이름은 홍길동입니다.\n",
      "제 전화번호는 01011112222 입니다.\n",
      "제가 사는 곳은 노원구입니다.\n",
      "\n",
      "안녕하세요, 제 이름은 김철수입니다.\n",
      "제 전화번호는 01044445555 입니다.\n",
      "제가 사는 곳은 중랑구입니다.\n",
      "\n",
      "안녕하세요, 제 이름은 김대겸입니다.\n",
      "제 전화번호는 01022224444 입니다.\n",
      "제가 사는 곳은 강남구입니다.\n",
      "\n"
     ]
    }
   ],
   "source": [
    "pm1.print_all_person()"
   ]
  },
  {
   "cell_type": "code",
   "execution_count": 40,
   "metadata": {},
   "outputs": [
    {
     "name": "stdout",
     "output_type": "stream",
     "text": [
      "삭제\n"
     ]
    }
   ],
   "source": [
    "for p in pm1.person_list:\n",
    "    if p.name == '김철수':\n",
    "        print('삭제')\n",
    "        del p\n",
    "        "
   ]
  },
  {
   "cell_type": "code",
   "execution_count": 60,
   "metadata": {},
   "outputs": [
    {
     "name": "stdout",
     "output_type": "stream",
     "text": [
      "안녕하세요, 제 이름은 홍길동입니다.\n",
      "제 전화번호는 01011112222 입니다.\n",
      "제가 사는 곳은 노원구입니다.\n",
      "\n",
      "안녕하세요, 제 이름은 김철수입니다.\n",
      "제 전화번호는 01044445555 입니다.\n",
      "제가 사는 곳은 중랑구입니다.\n",
      "\n"
     ]
    }
   ],
   "source": [
    "pm1.print_all_person()"
   ]
  },
  {
   "cell_type": "code",
   "execution_count": null,
   "metadata": {},
   "outputs": [],
   "source": []
  }
 ],
 "metadata": {
  "kernelspec": {
   "display_name": "Python 3",
   "language": "python",
   "name": "python3"
  },
  "language_info": {
   "codemirror_mode": {
    "name": "ipython",
    "version": 3
   },
   "file_extension": ".py",
   "mimetype": "text/x-python",
   "name": "python",
   "nbconvert_exporter": "python",
   "pygments_lexer": "ipython3",
   "version": "3.9.9"
  }
 },
 "nbformat": 4,
 "nbformat_minor": 2
}
