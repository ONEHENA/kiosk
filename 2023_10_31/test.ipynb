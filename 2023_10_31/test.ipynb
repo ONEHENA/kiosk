{
 "cells": [
  {
   "cell_type": "code",
   "execution_count": 8,
   "metadata": {},
   "outputs": [],
   "source": [
    "import numpy as np"
   ]
  },
  {
   "cell_type": "code",
   "execution_count": 9,
   "metadata": {},
   "outputs": [],
   "source": [
    "#모듈 설치\n",
    "# pip install numpy"
   ]
  },
  {
   "cell_type": "code",
   "execution_count": 7,
   "metadata": {},
   "outputs": [
    {
     "name": "stdout",
     "output_type": "stream",
     "text": [
      "*\n",
      "**\n",
      "***\n",
      "****\n"
     ]
    }
   ],
   "source": [
    "for i in range(4):\n",
    "    print ('*' * (i + 1))"
   ]
  },
  {
   "cell_type": "code",
   "execution_count": 14,
   "metadata": {},
   "outputs": [
    {
     "name": "stdout",
     "output_type": "stream",
     "text": [
      "****\n",
      "***\n",
      "**\n",
      "*\n"
     ]
    }
   ],
   "source": [
    "# for i in range( 4 , 0 ): <-이건 불가능\n",
    "for i in range( 4 , 0 , -1): # 4에서 1개 빼면서 1간격으로 반복\n",
    "    print ('*' * (i))"
   ]
  },
  {
   "cell_type": "code",
   "execution_count": 15,
   "metadata": {},
   "outputs": [
    {
     "name": "stdout",
     "output_type": "stream",
     "text": [
      "    *\n",
      "   **\n",
      "  ***\n",
      " ****\n"
     ]
    }
   ],
   "source": [
    "# 별 찍기 문제\n",
    "print('    *')\n",
    "print('   **')\n",
    "print('  ***')\n",
    "print(' ****')\n"
   ]
  },
  {
   "cell_type": "code",
   "execution_count": 19,
   "metadata": {},
   "outputs": [
    {
     "name": "stdout",
     "output_type": "stream",
     "text": [
      "    *\n",
      "   **\n",
      "  ***\n",
      " ****\n"
     ]
    }
   ],
   "source": [
    "for i in range(4 , 0 , -1):\n",
    "    print (' ' * i + '*' * (5-i))"
   ]
  },
  {
   "cell_type": "code",
   "execution_count": 20,
   "metadata": {},
   "outputs": [
    {
     "name": "stdout",
     "output_type": "stream",
     "text": [
      "    \n",
      "   *\n",
      "  **\n",
      " ***\n",
      "****\n"
     ]
    }
   ],
   "source": [
    "for i in range(5):\n",
    "    print(' ' * (4 - i) + '*' * i)"
   ]
  },
  {
   "cell_type": "code",
   "execution_count": 1,
   "metadata": {},
   "outputs": [
    {
     "name": "stdout",
     "output_type": "stream",
     "text": [
      "    \n",
      "   *\n",
      "  ***\n",
      " *****\n",
      "*******\n"
     ]
    }
   ],
   "source": [
    "for i in range(5):\n",
    "    print(' ' * (4 - i) + '*' * ((2*i)-1))\n",
    "    \n"
   ]
  },
  {
   "cell_type": "code",
   "execution_count": 5,
   "metadata": {},
   "outputs": [
    {
     "name": "stdout",
     "output_type": "stream",
     "text": [
      "['*******', ' *****', '  ***', '   *', '    ']\n"
     ]
    }
   ],
   "source": [
    "text = [] \n",
    "for i in range(5):\n",
    "    text.append(' ' * (4 - i) + '*' * ((2*i)-1))\n",
    "    \n",
    "\n",
    "reversed_text = text[::-1]\n",
    "print(reversed_text)"
   ]
  },
  {
   "cell_type": "code",
   "execution_count": 26,
   "metadata": {},
   "outputs": [
    {
     "name": "stdout",
     "output_type": "stream",
     "text": [
      "8\n"
     ]
    }
   ],
   "source": [
    "# 함수 만들기 \n",
    "\n",
    "def add(a, b):\n",
    "    return a + b\n",
    "result = add(3, 5) \n",
    "print(result)"
   ]
  },
  {
   "cell_type": "code",
   "execution_count": 34,
   "metadata": {},
   "outputs": [
    {
     "name": "stdout",
     "output_type": "stream",
     "text": [
      "2 × 1 = 2\n",
      "2 × 2 = 4\n",
      "2 × 3 = 6\n",
      "2 × 4 = 8\n",
      "2 × 5 = 10\n",
      "2 × 6 = 12\n",
      "2 × 7 = 14\n",
      "2 × 8 = 16\n",
      "2 × 9 = 18\n"
     ]
    }
   ],
   "source": [
    "# 9*9단 출력 함수 \n",
    "# 몇단을 출력할지 매개변수로 입력\n",
    "\n",
    "def gugu(number):\n",
    "    if number >=2 and number <= 9:\n",
    "        for i in range(9):\n",
    "            print(f'{number} × {i+1} = {number * (i+1)}')\n",
    "    else:\n",
    "        print('다시 입력하세요.')\n",
    "\n",
    "gugu(2)"
   ]
  },
  {
   "cell_type": "code",
   "execution_count": 49,
   "metadata": {},
   "outputs": [
    {
     "name": "stdout",
     "output_type": "stream",
     "text": [
      "cola 2000\n",
      "cider 1500\n",
      "fanta 3000\n",
      "돈을 입력해 주세요.\n",
      "cola을 구매완료했습니다.\n",
      "fanta을 구매완료했습니다.\n",
      "잔액이 부족합니다.\n"
     ]
    }
   ],
   "source": [
    "# 자판기 만들기\n",
    "\n",
    "## 메뉴 함수\n",
    "## 사용자에게 메뉴를 보여주기\n",
    "## 콜라, 사이다, 환타 각각의 가격\n",
    "menus = {\n",
    "    'cola' : 2000,\n",
    "    'cider' : 1500,\n",
    "    'fanta' : 3000\n",
    "}\n",
    "\n",
    "def print_menu():\n",
    "    for key, value in menus.items():\n",
    "        print(key, value)\n",
    "\n",
    "# 사용자에게 돈을 입력받고 입력받은 돈에서 구매하는 함수 만들기 \n",
    "## 사용자가 얼마만큼의 돈을 입력하는지 저장할 변수\n",
    "## 구매를 한다면 잔액 - 물건 가격을 뺴주는 함수\n",
    "\n",
    "def purchase(balance):\n",
    "\n",
    "    while True:\n",
    "        user_input = input()\n",
    "\n",
    "        # 사용자가 입력한 메뉴를 잔액으로 구매할 수 있는지 없는지\n",
    "        if balance >= menus[user_input]:\n",
    "    \n",
    "        # 구매하는 코드 입력\n",
    "            print(f'{user_input}을 구매했습니다.')\n",
    "    \n",
    "        # 구매 가능하다면 잔액에서 물품 가격 빼고 구매완료 출력            \n",
    "            balance = balance - menus[user_input]\n",
    "    \n",
    "        else:\n",
    "            print('잔액이 부족합니다.')            \n",
    "            break    \n",
    "            \n",
    "def main():\n",
    "    print_menu()\n",
    "\n",
    "    #사용자에게 돈을 입력받기\n",
    "    print('돈을 입력해 주세요.')\n",
    "    balance = int(input())\n",
    "    \n",
    "    #물건을 구매하는 함수 호출\n",
    "    purchase(balance)\n",
    "\n",
    "main()\n",
    "\n",
    "\n"
   ]
  },
  {
   "cell_type": "code",
   "execution_count": 47,
   "metadata": {},
   "outputs": [
    {
     "name": "stdout",
     "output_type": "stream",
     "text": [
      "cola을 구매완료했습니다.\n",
      "cider을 구매완료했습니다.\n",
      "잔액이 부족합니다.\n"
     ]
    }
   ],
   "source": [
    "balance = 5000\n",
    "menus = {\n",
    "    'cola' : 2000,\n",
    "    'cider' : 1500,\n",
    "    'fanta' : 3000\n",
    "}\n",
    "\n",
    "while True:\n",
    "    user_input = input()\n",
    "\n",
    "    # 사용자가 입력한 메뉴를 잔액으로 구매할 수 있는지 없는지\n",
    "    if balance >= menus[user_input]:\n",
    "    \n",
    "        # 구매하는 코드 입력\n",
    "        print(f'{user_input}을 구매완료했습니다.')\n",
    "    \n",
    "        # 구매 가능하다면 잔액에서 물품 가격 빼고 구매완료 출력            \n",
    "        balance = balance - menus[user_input]\n",
    "    \n",
    "    else:\n",
    "        print('잔액이 부족합니다.')            \n",
    "        break    \n",
    "            \n"
   ]
  },
  {
   "cell_type": "code",
   "execution_count": 50,
   "metadata": {},
   "outputs": [],
   "source": [
    "## class 만들기\n",
    "\n",
    "class Car:\n",
    "    name = ''\n",
    "    num_of_door = 4"
   ]
  },
  {
   "cell_type": "code",
   "execution_count": 51,
   "metadata": {},
   "outputs": [],
   "source": [
    "car1 = Car()"
   ]
  },
  {
   "cell_type": "code",
   "execution_count": 54,
   "metadata": {},
   "outputs": [],
   "source": [
    "car1 = Car()\n",
    "car2 = Car()\n",
    "car3 = Car()"
   ]
  },
  {
   "cell_type": "code",
   "execution_count": 52,
   "metadata": {},
   "outputs": [
    {
     "data": {
      "text/plain": [
       "''"
      ]
     },
     "execution_count": 52,
     "metadata": {},
     "output_type": "execute_result"
    }
   ],
   "source": [
    "car1.name"
   ]
  },
  {
   "cell_type": "code",
   "execution_count": 53,
   "metadata": {},
   "outputs": [
    {
     "data": {
      "text/plain": [
       "4"
      ]
     },
     "execution_count": 53,
     "metadata": {},
     "output_type": "execute_result"
    }
   ],
   "source": [
    "car1.num_of_door"
   ]
  },
  {
   "cell_type": "code",
   "execution_count": 60,
   "metadata": {},
   "outputs": [
    {
     "name": "stdout",
     "output_type": "stream",
     "text": [
      "안녕하세요, 제 이름은 김대겸입니다.\n",
      "제 나이는 14살 입니다.\n",
      "제가 사는 곳은 노원구입니다.\n"
     ]
    }
   ],
   "source": [
    "# class 예제 1\n",
    "\n",
    "class Hello():\n",
    "\n",
    "    def __init__(self, name, age, address):\n",
    "        self.name = name\n",
    "        self.age = age\n",
    "        self.address = address\n",
    "\n",
    "    def print_hello(self):\n",
    "        print('hi')\n",
    "\n",
    "    def introduce_myself(self):\n",
    "        print(f'안녕하세요, 제 이름은 {self.name}입니다.')\n",
    "        print(f'제 나이는 {self.age}살 입니다.')\n",
    "        print(f'제가 사는 곳은 {self.address}입니다.')\n",
    "\n",
    "# h1 = Hello()\n",
    "# h1.print_hello()\n",
    "# h1.introduce_myself('김대겸')\n",
    "\n",
    "h2 = Hello('김대겸', 14, '노원구')\n",
    "h2.introduce_myself()"
   ]
  },
  {
   "cell_type": "code",
   "execution_count": 61,
   "metadata": {},
   "outputs": [
    {
     "name": "stdout",
     "output_type": "stream",
     "text": [
      "이 동물의 이름은 hippo입니다.\n",
      "이 동물의 다리는 4개 입니다.\n"
     ]
    }
   ],
   "source": [
    "# 동물 클래스 만들기\n",
    "\n",
    "class Animal:\n",
    "    def __init__(self, name, num_of_feet):\n",
    "        #클래스 객체의 고유 값을 초기화\n",
    "        self.name = name\n",
    "        self.num_of_feet = num_of_feet\n",
    "\n",
    "    # 함수 만들기\n",
    "    ## 동물의 이름을 소개하는 함수\n",
    "    ## 내 다리는 몇개다\n",
    "    def introduce_animal(self):\n",
    "        print(f'이 동물의 이름은 {self.name}입니다.')\n",
    "        print(f'이 동물의 다리는 {self.num_of_feet}개 입니다.')\n",
    "\n",
    "hippo = Animal('hippo',4)\n",
    "hippo.introduce_animal()"
   ]
  },
  {
   "cell_type": "code",
   "execution_count": 72,
   "metadata": {},
   "outputs": [],
   "source": [
    "# bank class 만들기\n",
    "\n",
    "class Bank:\n",
    "    def __init__(self, money):\n",
    "        self.money = money\n",
    "    \n",
    "    def deposit(self, plus):\n",
    "        self.plus = plus\n",
    "        # 객체에 돈을 얼마나 넣을 것인지\n",
    "        print(f'입금할 금액은 {self.plus}원입니다.')\n",
    "\n",
    "        self.money = self.money + self.plus\n",
    "        print(f'현재 통장잔액은 {self.money}원입니다.')\n",
    "        \n",
    "\n",
    "    def withdrawal(self, minus):\n",
    "        self.minus = minus\n",
    "        # 객체에서 돈을 얼마나 뺄 것인지\n",
    "        print(f'출금할 금액은 {self.minus}원입니다.')\n",
    "\n",
    "        self.money = self.money - self.minus\n",
    "        print(f'현재 통장잔액은 {self.money}원입니다.')\n",
    "\n",
    "    # 다른 객체에 돈을 송금하는 함수\n",
    "    def trans(self, other_obj, t_money ): #클래스 객체, 송금할 돈 액수\n",
    "        self.t_money =t_money\n",
    "        print(f'송금할 금액은 {self.t_money}원입니다.')\n",
    "    \n",
    "        other_obj.money = other_obj.money + t_money \n",
    "        print(f'현재 통장잔액은 {other_obj.money}원입니다.')\n",
    "          \n",
    "            \n",
    "        \n",
    "\n",
    "        "
   ]
  },
  {
   "cell_type": "code",
   "execution_count": 64,
   "metadata": {},
   "outputs": [
    {
     "name": "stdout",
     "output_type": "stream",
     "text": [
      "입금할 금액은 2000원입니다.\n",
      "현재 통장잔액은 12000원입니다.\n"
     ]
    },
    {
     "data": {
      "text/plain": [
       "12000"
      ]
     },
     "execution_count": 64,
     "metadata": {},
     "output_type": "execute_result"
    }
   ],
   "source": [
    "b1 = Bank(10000)\n",
    "b1.money\n",
    "b1.deposit(2000)\n"
   ]
  },
  {
   "cell_type": "code",
   "execution_count": 68,
   "metadata": {},
   "outputs": [
    {
     "name": "stdout",
     "output_type": "stream",
     "text": [
      "출금할 금액은 2000원입니다.\n",
      "현재 통장잔액은 8000원입니다.\n"
     ]
    }
   ],
   "source": [
    "b1 = Bank(10000)\n",
    "b1.money\n",
    "b1.withdrawal(2000)\n"
   ]
  },
  {
   "cell_type": "code",
   "execution_count": 77,
   "metadata": {},
   "outputs": [
    {
     "name": "stdout",
     "output_type": "stream",
     "text": [
      "송금할 금액은 30000원입니다.\n",
      "현재 통장잔액은 40000원입니다.\n"
     ]
    }
   ],
   "source": [
    "b2 = Bank(10000)\n",
    "b3 = Bank(20000)\n",
    "\n",
    "b3.trans(b2,30000)"
   ]
  },
  {
   "cell_type": "code",
   "execution_count": 82,
   "metadata": {},
   "outputs": [
    {
     "name": "stdout",
     "output_type": "stream",
     "text": [
      "송금할 금액은 10000원입니다.\n",
      "현재 통장잔액은 20000원입니다.\n"
     ]
    }
   ],
   "source": [
    "# 다른 객체에 돈을 송금하는 함수\n",
    "class Bank:\n",
    "    def __init__(self, money):\n",
    "        self.money = money\n",
    "\n",
    "    def trans(self, other_obj, t_money ): #클래스 객체, 송금할 돈 액수\n",
    "        self.t_money =t_money\n",
    "\n",
    "        if t_money <= other_obj.money : \n",
    "            print(f'송금할 금액은 {self.t_money}원입니다.')\n",
    "        \n",
    "            other_obj.money = other_obj.money + t_money \n",
    "            print(f'현재 통장잔액은 {other_obj.money}원입니다.')\n",
    "\n",
    "        else:\n",
    "            print('송금할 잔액이 부족합니다.')\n",
    "        \n",
    "b2 = Bank(10000)\n",
    "b3 = Bank(20000)\n",
    "\n",
    "b3.trans(b2,10000)"
   ]
  },
  {
   "cell_type": "code",
   "execution_count": 46,
   "metadata": {},
   "outputs": [],
   "source": [
    "# 전화번호부 관리 프로그램\n",
    "# Person 클래스 만들기 \n",
    "\n",
    "class Person:\n",
    "    def __init__(self, name, phone_number, address):\n",
    "        # 초기화\n",
    "        self.name = name\n",
    "        self.phone_number = phone_number\n",
    "        self.address = address\n",
    "        \n",
    "    def introduce_myself(self):\n",
    "        #자기소개\n",
    "        ##이름, 전화번호, 주소\n",
    "        print(f'안녕하세요 제 이름은 {self.name}입니다.')\n",
    "        print(f'제 전화번호는 {self.phone_number}입니다.')\n",
    "        print(f'제 주소는 {self.address}입니다.')\n",
    "\n",
    "class Phone_book_manager:\n",
    "    def __init__(self, person_list):\n",
    "        #초기화\n",
    "        self.person_list = person_list\n",
    "    \n",
    "    #현재 전화번호부에 있는 모든 사람의 정보를 출력\n",
    "    def print_all_person(self):\n",
    "        for p in self.person_list:\n",
    "            p.introduce_myself()\n",
    "            print( )\n",
    "\n",
    "    ##사람을 추가하는 함수\n",
    "    def add_person(self):\n",
    "        ### person 객체를 생성\n",
    "        ### 이름, 전화번호, 주소\n",
    "        name = input('이름을 입력해주세요.')\n",
    "        pn = input('전화번호를 입력해주세요.예시)010-1234-5678')\n",
    "        addr = input('주소를 입력해주세요.')\n",
    "\n",
    "        person_obj = Person(name, pn, addr)\n",
    "        self.person_list.append(person_obj)\n",
    "        print(f'{person_obj.name}이 성공적으로 추가되었습니다.')\n",
    "\n",
    "    ## 특정 사람에 대한 정보를 수정\n",
    "    def update_person(self):\n",
    "        name = input('이름을 입력해주세요.')\n",
    "\n",
    "        for p in self.person_list:\n",
    "            if name == p.name:\n",
    "\n",
    "                # 원하는 정보를 수정하는 코드\n",
    "                while True:\n",
    "                    select_num = int(input('1. 이름, 2. 전화번호, 3. 주소, 4. 나가기'))\n",
    "                    if select_num == 1:\n",
    "                        p.name = input('이름을 입력해주세요.')\n",
    "                    elif select_num == 2:\n",
    "                        p.phone_number = input('전화번호를 입력해주세요.예시)010-1234-5678')\n",
    "                    elif select_num == 3:\n",
    "                        p.address = input('주소를 입력해주세요.')\n",
    "                    else:\n",
    "                        return\n",
    "\n",
    "        # 찾는 이름이 없다는 출력문\n",
    "        print('찾는 이름이 전화번호부에 없는 이름입니다.')\n",
    "\n",
    "    ## 특정 사람에 대한 정보를 삭제\n",
    "    def delete_person(self):\n",
    "        name = input('이름을 입력해주세요.')\n",
    "\n",
    "        for p in self.person_list:\n",
    "            if name == p.name:\n",
    "                # del p 하면 안됨\n",
    "                self.person_list.remove(p)\n",
    "                return\n",
    "            \n",
    "        # 찾는 이름이 없다는 출력문\n",
    "        print('찾는 이름이 전화번호부에 없는 이름입니다.')\n",
    "\n",
    "    ## 특정 사람에 대한 정보를 조회\n",
    "    def select_person(self):\n",
    "        name = input('이름을 입력해주세요.')\n",
    "        for p in self.person_list:\n",
    "            if name == p.name:\n",
    "                p.introduce_myself()\n",
    "                return\n",
    "        \n",
    "        # 찾는 이름이 없다는 출력문\n",
    "        print('찾는 이름이 전화번호부에 없는 이름입니다.')\n",
    "        \n",
    "      "
   ]
  },
  {
   "cell_type": "code",
   "execution_count": 47,
   "metadata": {},
   "outputs": [
    {
     "name": "stdout",
     "output_type": "stream",
     "text": [
      "안녕하세요 제 이름은 홍길동입니다.\n",
      "제 전화번호는 010-1234-5678입니다.\n",
      "제 주소는 노원구입니다.\n"
     ]
    }
   ],
   "source": [
    "a1 = Person('홍길동','010-1234-5678','노원구')\n",
    "a2 = Person('유관순','010-1111-2222','송파구') \n",
    "a1.introduce_myself()"
   ]
  },
  {
   "cell_type": "code",
   "execution_count": 48,
   "metadata": {},
   "outputs": [
    {
     "name": "stdout",
     "output_type": "stream",
     "text": [
      "안녕하세요 제 이름은 홍길동입니다.\n",
      "제 전화번호는 010-1234-5678입니다.\n",
      "제 주소는 노원구입니다.\n",
      "\n",
      "안녕하세요 제 이름은 유관순입니다.\n",
      "제 전화번호는 010-1111-2222입니다.\n",
      "제 주소는 송파구입니다.\n",
      "\n"
     ]
    }
   ],
   "source": [
    "p1 = Phone_book_manager([a1, a2])\n",
    "p1.print_all_person()"
   ]
  },
  {
   "cell_type": "code",
   "execution_count": 49,
   "metadata": {},
   "outputs": [
    {
     "name": "stdout",
     "output_type": "stream",
     "text": [
      "이 성공적으로 추가되었습니다.\n"
     ]
    }
   ],
   "source": [
    "pm1 = Phone_book_manager([a1, a2])\n",
    "pm1.add_person()"
   ]
  },
  {
   "cell_type": "code",
   "execution_count": 52,
   "metadata": {},
   "outputs": [
    {
     "name": "stdout",
     "output_type": "stream",
     "text": [
      "안녕하세요 제 이름은 홍길동입니다.\n",
      "제 전화번호는 010-1234-5678입니다.\n",
      "제 주소는 노원구입니다.\n",
      "\n",
      "안녕하세요 제 이름은 김삿갓입니다.\n",
      "제 전화번호는 010-1111-2222입니다.\n",
      "제 주소는 송파구입니다.\n",
      "\n",
      "안녕하세요 제 이름은 입니다.\n",
      "제 전화번호는 입니다.\n",
      "제 주소는 입니다.\n",
      "\n"
     ]
    }
   ],
   "source": [
    "pm1.print_all_person()"
   ]
  },
  {
   "cell_type": "code",
   "execution_count": 51,
   "metadata": {},
   "outputs": [],
   "source": [
    "pm1.update_person()"
   ]
  },
  {
   "cell_type": "code",
   "execution_count": 40,
   "metadata": {},
   "outputs": [],
   "source": [
    "pm1.delete_person()"
   ]
  },
  {
   "cell_type": "code",
   "execution_count": 42,
   "metadata": {},
   "outputs": [
    {
     "name": "stdout",
     "output_type": "stream",
     "text": [
      "안녕하세요 제 이름은 홍길동입니다.\n",
      "제 전화번호는 010-1234-5678입니다.\n",
      "제 주소는 노원구입니다.\n"
     ]
    }
   ],
   "source": [
    "pm1.select_person()"
   ]
  },
  {
   "cell_type": "code",
   "execution_count": null,
   "metadata": {},
   "outputs": [],
   "source": [
    "for p in pm1.person_list:\n",
    "    if p.name == '김철수':\n",
    "        print('삭제')\n",
    "        del p"
   ]
  }
 ],
 "metadata": {
  "kernelspec": {
   "display_name": "Python 3",
   "language": "python",
   "name": "python3"
  },
  "language_info": {
   "codemirror_mode": {
    "name": "ipython",
    "version": 3
   },
   "file_extension": ".py",
   "mimetype": "text/x-python",
   "name": "python",
   "nbconvert_exporter": "python",
   "pygments_lexer": "ipython3",
   "version": "3.9.13"
  }
 },
 "nbformat": 4,
 "nbformat_minor": 2
}
